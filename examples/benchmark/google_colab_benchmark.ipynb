{
  "nbformat": 4,
  "nbformat_minor": 0,
  "metadata": {
    "colab": {
      "name": "google_colab_benchmark.ipynb",
      "provenance": [],
      "collapsed_sections": [],
      "authorship_tag": "ABX9TyPSNBwhBxXyi+F2GnYsfrAR",
      "include_colab_link": true
    },
    "kernelspec": {
      "name": "python3",
      "display_name": "Python 3"
    },
    "accelerator": "GPU"
  },
  "cells": [
    {
      "cell_type": "markdown",
      "metadata": {
        "id": "view-in-github",
        "colab_type": "text"
      },
      "source": [
        "<a href=\"https://colab.research.google.com/github/arteagac/xlogit/blob/master/examples/benchmark/google_colab_benchmark.ipynb\" target=\"_parent\"><img src=\"https://colab.research.google.com/assets/colab-badge.svg\" alt=\"Open In Colab\"/></a>"
      ]
    },
    {
      "cell_type": "markdown",
      "metadata": {
        "id": "MJN_sR4NGIdf"
      },
      "source": [
        "# Quick Benchmark in Google Colab"
      ]
    },
    {
      "cell_type": "markdown",
      "metadata": {
        "id": "tK323lsqGLtG"
      },
      "source": [
        "This benchmark compares the estimation speed of `xlogit`, `pylogit` and `biogeme` using a dataset of artificial choices. In addition, the estimates and figures presented in the paper are resembled to a large extent by the results in this Jupyter Notebook. Make sure that a GPU Hardware Accelerator is being used by clicking `Runtime > Change runtime type`.  To run the entire benchmark simply click `Runtime > Run all`. Let's start by importing some required libraries. \n",
        "> **Important:** Google Colab may stop the execution when it detects no interaction with this page for too long. To avoid this, try to interact with this page at least every 10 minutes."
      ]
    },
    {
      "cell_type": "code",
      "metadata": {
        "id": "6lpU_GjypoWz"
      },
      "source": [
        "import pandas as pd\n",
        "import numpy as np\n",
        "from time import time\n",
        "import sys, io\n",
        "\n",
        "rdf = pd.DataFrame(columns=[\"library\", \"draws\", \"time\"])  # Dataframe to save results\n",
        "data_folder = \"https://raw.githubusercontent.com/arteagac/xlogit/master/examples/data\""
      ],
      "execution_count": 1,
      "outputs": []
    },
    {
      "cell_type": "markdown",
      "metadata": {
        "id": "t5fKiBmmR8PO"
      },
      "source": [
        "## Part 1: Run benchmark"
      ]
    },
    {
      "cell_type": "markdown",
      "metadata": {
        "id": "KS0phmN4vqf1"
      },
      "source": [
        "This benchmark compares the estimation times of `xlogit`, `pylogit`, and `biogeme` at different number of random draws. The results are shown below each execution cells."
      ]
    },
    {
      "cell_type": "markdown",
      "metadata": {
        "id": "Hh3cZGmppMtO"
      },
      "source": [
        "### Execute xlogit experiments"
      ]
    },
    {
      "cell_type": "code",
      "metadata": {
        "id": "DS71jdF16QiE",
        "colab": {
          "base_uri": "https://localhost:8080/"
        },
        "outputId": "b76e4c09-96ee-450d-95b4-984c508f1aac"
      },
      "source": [
        "# Install and import xlogit\n",
        "!pip install xlogit==0.1.4\n",
        "from xlogit import MixedLogit\n",
        "MixedLogit.check_if_gpu_available()"
      ],
      "execution_count": 2,
      "outputs": [
        {
          "output_type": "stream",
          "name": "stdout",
          "text": [
            "Requirement already satisfied: xlogit==0.1.4 in /usr/local/lib/python3.7/dist-packages (0.1.4)\n",
            "Requirement already satisfied: numpy>=1.13.1 in /usr/local/lib/python3.7/dist-packages (from xlogit==0.1.4) (1.19.5)\n",
            "Requirement already satisfied: scipy>=1.0.0 in /usr/local/lib/python3.7/dist-packages (from xlogit==0.1.4) (1.4.1)\n",
            "1 GPU device(s) available. xlogit will use GPU processing\n"
          ]
        },
        {
          "output_type": "execute_result",
          "data": {
            "text/plain": [
              "True"
            ]
          },
          "metadata": {},
          "execution_count": 2
        }
      ]
    },
    {
      "cell_type": "code",
      "metadata": {
        "id": "yQuipBr05YYh"
      },
      "source": [
        "# Prepare input data\n",
        "df = pd.read_csv(data_folder+\"/artificial_long.csv\")  \n",
        "varnames = ['price', 'time', 'conven', 'comfort', 'meals', 'petfr',\n",
        "            'emipp', 'nonsig1', 'nonsig2', 'nonsig3']\n",
        "X = df[varnames]\n",
        "y = df['choice']\n",
        "randvars = {'meals': 'n', 'petfr': 'n', 'emipp': 'n'}\n",
        "alts = df['alt']\n",
        "ids = df['id']"
      ],
      "execution_count": 3,
      "outputs": []
    },
    {
      "cell_type": "markdown",
      "metadata": {
        "id": "PoI9EZGV4hIj"
      },
      "source": [
        "#### Run estimation using GPU"
      ]
    },
    {
      "cell_type": "code",
      "metadata": {
        "id": "l6uKegMKoXpm",
        "colab": {
          "base_uri": "https://localhost:8080/"
        },
        "outputId": "7bb395de-1c6c-422f-9150-3c21b63a2d20"
      },
      "source": [
        "print(\"Ndraws Time(s) Log-Likeli.\")\n",
        "for n_draws in [100, 200, 300]:\n",
        "    np.random.seed(0)\n",
        "    start_time = time()\n",
        "    model = MixedLogit()\n",
        "    model.fit(X, y, varnames, ids=ids, alts=alts, n_draws=n_draws, verbose=0, randvars=randvars)\n",
        "    ellapsed = time() - start_time\n",
        "    print(\"{:6} {:7.2f} {:11.2f}\".format(n_draws, ellapsed, model.loglikelihood))\n",
        "    rdf.loc[len(rdf)] = ['xlogit_gpu', n_draws, ellapsed]"
      ],
      "execution_count": 4,
      "outputs": [
        {
          "output_type": "stream",
          "name": "stdout",
          "text": [
            "Ndraws Time(s) Log-Likeli.\n",
            "   100    1.39    -2275.85\n",
            "   200    2.20    -2277.51\n",
            "   300    3.31    -2280.15\n"
          ]
        }
      ]
    },
    {
      "cell_type": "markdown",
      "metadata": {
        "id": "9j1pbWpyHy_g"
      },
      "source": [
        "> **Note that the estimation takes less than 2 seconds for xlogit with GPU processing, even for 300 random draws.**"
      ]
    },
    {
      "cell_type": "markdown",
      "metadata": {
        "id": "F7RgCZvj4mq8"
      },
      "source": [
        "#### Run estimation without using GPU"
      ]
    },
    {
      "cell_type": "code",
      "metadata": {
        "id": "LSPtLZEq4yqc",
        "colab": {
          "base_uri": "https://localhost:8080/"
        },
        "outputId": "a4873ce4-13c9-457f-d6af-2019d2ad0852"
      },
      "source": [
        "from xlogit import device\n",
        "device.disable_gpu_acceleration()\n",
        "\n",
        "print(\"Ndraws Time(s) Log-Likeli.\")\n",
        "for n_draws in [100, 200, 300]:\n",
        "    np.random.seed(0)\n",
        "    start_time = time()\n",
        "    model = MixedLogit()\n",
        "    model.fit(X, y, varnames, ids=ids, alts=alts, n_draws=n_draws, verbose=0, randvars=randvars)\n",
        "    ellapsed = time() - start_time\n",
        "    print(\"{:6} {:7.2f} {:11.2f}\".format(n_draws, ellapsed, model.loglikelihood))\n",
        "    rdf.loc[len(rdf)] = ['xlogit', n_draws, ellapsed]"
      ],
      "execution_count": 5,
      "outputs": [
        {
          "output_type": "stream",
          "name": "stdout",
          "text": [
            "Ndraws Time(s) Log-Likeli.\n",
            "   100    6.76    -2275.85\n",
            "   200   12.61    -2277.51\n",
            "   300   20.51    -2280.15\n"
          ]
        }
      ]
    },
    {
      "cell_type": "markdown",
      "metadata": {
        "id": "ua-GU3ehHWk8"
      },
      "source": [
        "> **Note that withouth using a GPU, the estimation time increases.**"
      ]
    },
    {
      "cell_type": "markdown",
      "metadata": {
        "id": "pxxGg8dJ2y0d"
      },
      "source": [
        "### Execute pylogit experiments"
      ]
    },
    {
      "cell_type": "code",
      "metadata": {
        "id": "dQovWhMM6jX_",
        "colab": {
          "base_uri": "https://localhost:8080/"
        },
        "outputId": "f3b6d2c4-d9da-4ec2-c116-08c037e3a01e"
      },
      "source": [
        "# Install and import pylogit\n",
        "!pip install pylogit==0.2.2\n",
        "import pylogit as pl\n",
        "from collections import OrderedDict\n",
        "import warnings\n",
        "# Disable warnings shown by pylogit to better visualize the benchmark outputs\n",
        "warnings.filterwarnings('ignore') "
      ],
      "execution_count": 6,
      "outputs": [
        {
          "output_type": "stream",
          "name": "stdout",
          "text": [
            "Collecting pylogit==0.2.2\n",
            "  Downloading pylogit-0.2.2-py2.py3-none-any.whl (184 kB)\n",
            "\u001b[K     |████████████████████████████████| 184 kB 4.3 MB/s \n",
            "\u001b[?25hRequirement already satisfied: pandas>=0.16.2 in /usr/local/lib/python3.7/dist-packages (from pylogit==0.2.2) (1.1.5)\n",
            "Requirement already satisfied: scipy>=0.16.1 in /usr/local/lib/python3.7/dist-packages (from pylogit==0.2.2) (1.4.1)\n",
            "Requirement already satisfied: future>=0.16 in /usr/local/lib/python3.7/dist-packages (from pylogit==0.2.2) (0.16.0)\n",
            "Requirement already satisfied: tqdm>=4.15.0 in /usr/local/lib/python3.7/dist-packages (from pylogit==0.2.2) (4.62.2)\n",
            "Requirement already satisfied: numpy>=1.10.2 in /usr/local/lib/python3.7/dist-packages (from pylogit==0.2.2) (1.19.5)\n",
            "Requirement already satisfied: statsmodels>=0.6.1 in /usr/local/lib/python3.7/dist-packages (from pylogit==0.2.2) (0.10.2)\n",
            "Requirement already satisfied: pytz>=2017.2 in /usr/local/lib/python3.7/dist-packages (from pandas>=0.16.2->pylogit==0.2.2) (2018.9)\n",
            "Requirement already satisfied: python-dateutil>=2.7.3 in /usr/local/lib/python3.7/dist-packages (from pandas>=0.16.2->pylogit==0.2.2) (2.8.2)\n",
            "Requirement already satisfied: six>=1.5 in /usr/local/lib/python3.7/dist-packages (from python-dateutil>=2.7.3->pandas>=0.16.2->pylogit==0.2.2) (1.15.0)\n",
            "Requirement already satisfied: patsy>=0.4.0 in /usr/local/lib/python3.7/dist-packages (from statsmodels>=0.6.1->pylogit==0.2.2) (0.5.1)\n",
            "Installing collected packages: pylogit\n",
            "Successfully installed pylogit-0.2.2\n"
          ]
        }
      ]
    },
    {
      "cell_type": "code",
      "metadata": {
        "id": "YHF06jQD21fC",
        "colab": {
          "base_uri": "https://localhost:8080/"
        },
        "outputId": "ece9a31d-ceb1-4ff2-b514-d6e32b54c730"
      },
      "source": [
        "# Prepare input data\n",
        "df = pd.read_csv(data_folder+\"/artificial_long.csv\")  \n",
        "varnames = ['price', 'time', 'conven', 'comfort', 'meals', 'petfr',\n",
        "            'emipp', 'nonsig1', 'nonsig2', 'nonsig3']\n",
        "alt_id_col = \"alt\"\n",
        "obs_id_col = \"id\"\n",
        "choice_col = \"choice\"\n",
        "mixing_id_col = \"id\"\n",
        "mixing_vars = [\"meals\", \"petfr\", \"emipp\"]\n",
        "spec, spec_names = OrderedDict(), OrderedDict()\n",
        "for col in varnames:\n",
        "    df[col] = df[col].astype(float)\n",
        "    spec[col] = [[1, 2, 3]]\n",
        "    spec_names[col] = [col]\n",
        "\n",
        "# Run estimation\n",
        "print(\"Ndraws Time(s) Log-Likeli.\")\n",
        "for n_draws in [100, 200, 300]:\n",
        "    np.random.seed(0)\n",
        "    start_time = time()\n",
        "    model = pl.create_choice_model(data=df, alt_id_col=alt_id_col,\n",
        "                                obs_id_col=obs_id_col, choice_col=choice_col,\n",
        "                                specification=spec, mixing_vars=mixing_vars,\n",
        "                                model_type=\"Mixed Logit\", names=spec_names,\n",
        "                                mixing_id_col=mixing_id_col)\n",
        "    model.fit_mle(init_vals=np.zeros(len(varnames)+len(mixing_vars)),\n",
        "                num_draws=n_draws, seed=123, print_res=False)\n",
        "    ellapsed = time() - start_time\n",
        "    print(\"{:6} {:7.2f} {:11.2f}\".format(n_draws, ellapsed, model.log_likelihood))\n",
        "    rdf.loc[len(rdf)] = ['pylogit', n_draws, ellapsed]"
      ],
      "execution_count": 7,
      "outputs": [
        {
          "output_type": "stream",
          "name": "stdout",
          "text": [
            "Ndraws Time(s) Log-Likeli.\n",
            "   100   78.48    -2283.39\n",
            "   200  135.76    -2285.38\n",
            "   300  113.04    -2273.75\n"
          ]
        }
      ]
    },
    {
      "cell_type": "markdown",
      "metadata": {
        "id": "_XubYbNlHH4S"
      },
      "source": [
        "> **Note that the estimation times of `pylogit` are substantially larger compared to `xlogit` with gpu processing.**"
      ]
    },
    {
      "cell_type": "markdown",
      "metadata": {
        "id": "EVHvxUgn5HHs"
      },
      "source": [
        "### Execute biogeme experiments"
      ]
    },
    {
      "cell_type": "markdown",
      "metadata": {
        "id": "rg_EraQlKYHP"
      },
      "source": [
        "For this experiment, `biogeme` will run using two processor cores. "
      ]
    },
    {
      "cell_type": "code",
      "metadata": {
        "id": "3DhxqTPq5JZH",
        "colab": {
          "base_uri": "https://localhost:8080/"
        },
        "outputId": "48b92e59-1ab0-4be3-9a2b-83a9a7a04d65"
      },
      "source": [
        "# Install and import biogeme\n",
        "!pip install biogeme==3.2.6\n",
        "import biogeme.database as db\n",
        "import biogeme.biogeme as bio\n",
        "import biogeme.models as models\n",
        "import biogeme.messaging as msg\n",
        "from biogeme.expressions import Beta, bioDraws, log, MonteCarlo"
      ],
      "execution_count": 8,
      "outputs": [
        {
          "output_type": "stream",
          "name": "stdout",
          "text": [
            "Collecting biogeme==3.2.6\n",
            "  Downloading biogeme-3.2.6.tar.gz (1.1 MB)\n",
            "\u001b[K     |████████████████████████████████| 1.1 MB 4.2 MB/s \n",
            "\u001b[?25hRequirement already satisfied: numpy in /usr/local/lib/python3.7/dist-packages (from biogeme==3.2.6) (1.19.5)\n",
            "Requirement already satisfied: cython in /usr/local/lib/python3.7/dist-packages (from biogeme==3.2.6) (0.29.24)\n",
            "Collecting unidecode\n",
            "  Downloading Unidecode-1.3.2-py3-none-any.whl (235 kB)\n",
            "\u001b[K     |████████████████████████████████| 235 kB 48.3 MB/s \n",
            "\u001b[?25hRequirement already satisfied: scipy in /usr/local/lib/python3.7/dist-packages (from biogeme==3.2.6) (1.4.1)\n",
            "Requirement already satisfied: pandas in /usr/local/lib/python3.7/dist-packages (from biogeme==3.2.6) (1.1.5)\n",
            "Requirement already satisfied: pytz>=2017.2 in /usr/local/lib/python3.7/dist-packages (from pandas->biogeme==3.2.6) (2018.9)\n",
            "Requirement already satisfied: python-dateutil>=2.7.3 in /usr/local/lib/python3.7/dist-packages (from pandas->biogeme==3.2.6) (2.8.2)\n",
            "Requirement already satisfied: six>=1.5 in /usr/local/lib/python3.7/dist-packages (from python-dateutil>=2.7.3->pandas->biogeme==3.2.6) (1.15.0)\n",
            "Building wheels for collected packages: biogeme\n",
            "  Building wheel for biogeme (setup.py) ... \u001b[?25l\u001b[?25hdone\n",
            "  Created wheel for biogeme: filename=biogeme-3.2.6-cp37-cp37m-linux_x86_64.whl size=3181713 sha256=9c3456456bfb03d0be1ff82fe993ee9b4a66c4b620b6d348ac5ef83c5b0461d7\n",
            "  Stored in directory: /root/.cache/pip/wheels/68/0a/24/edcf2e1958997ca6d969b93f656546e7aef03c91aeab9dab3e\n",
            "Successfully built biogeme\n",
            "Installing collected packages: unidecode, biogeme\n",
            "Successfully installed biogeme-3.2.6 unidecode-1.3.2\n"
          ]
        }
      ]
    },
    {
      "cell_type": "code",
      "metadata": {
        "id": "nmib1DEG7f7U",
        "colab": {
          "base_uri": "https://localhost:8080/"
        },
        "outputId": "72bacc44-e743-47af-8895-335276145e68"
      },
      "source": [
        "# Prepare input data\n",
        "df = pd.read_csv(data_folder+\"/artificial_wide.csv\")\n",
        "df['choice'] = df['choice'].astype('str')\n",
        "mapping = {'1': 1, '2': 2, '3': 3}\n",
        "\n",
        "for k, v in mapping.items():\n",
        "    df[\"aval_\"+k] = np.ones(df.shape[0])\n",
        "df = df.replace({'choice': mapping})\n",
        "database = db.Database('artificial', df)\n",
        "\n",
        "globals().update(database.variables)\n",
        "\n",
        "# Fixed params\n",
        "b_price = Beta('b_price', 0, None, None, 0)\n",
        "b_time = Beta('b_time', 0, None, None, 0)\n",
        "b_conven = Beta('b_conven', 0, None, None, 0)\n",
        "b_comfort = Beta('b_comfort', 0, None, None, 0)\n",
        "b_nonsig1 = Beta('b_nonsig1', 0, None, None, 0)\n",
        "b_nonsig2 = Beta('b_nonsig2', 0, None, None, 0)\n",
        "b_nonsig3 = Beta('b_nonsig3', 0, None, None, 0)\n",
        "\n",
        "# Random params\n",
        "u_meals = Beta('u_meals', 0, None, None, 0)\n",
        "u_petfr = Beta('u_petfr', 0, None, None, 0)\n",
        "u_emipp = Beta('u_emipp', 0, None, None, 0)\n",
        "sd_meals = Beta('sd_meals', 0, None, None, 0)\n",
        "sd_petfr = Beta('sd_petfr', 0, None, None, 0)\n",
        "sd_emipp = Beta('sd_emipp', 0, None, None, 0)\n",
        "\n",
        "b_meals = u_meals + sd_meals*bioDraws('b_meals', 'NORMAL')\n",
        "b_petfr = u_petfr + sd_petfr*bioDraws('b_petfr', 'NORMAL')\n",
        "b_emipp = u_emipp + sd_emipp*bioDraws('b_emipp', 'NORMAL')\n",
        "\n",
        "V1 = price_1*b_price+time_1*b_time+conven_1*b_conven+comfort_1*b_comfort+\\\n",
        "    meals_1*b_meals+petfr_1*b_petfr+emipp_1*b_emipp+nonsig1_1*b_nonsig1+\\\n",
        "        nonsig2_1*b_nonsig2+nonsig3_1*b_nonsig3\n",
        "V2 = price_2*b_price+time_2*b_time+conven_2*b_conven+comfort_2*b_comfort+\\\n",
        "    meals_2*b_meals+petfr_2*b_petfr+emipp_2*b_emipp+nonsig1_2*b_nonsig1+\\\n",
        "        nonsig2_2*b_nonsig2+nonsig3_2*b_nonsig3\n",
        "V3 = price_3*b_price+time_3*b_time+conven_3*b_conven+comfort_3*b_comfort+\\\n",
        "    meals_3*b_meals+petfr_3*b_petfr+emipp_3*b_emipp+nonsig1_3*b_nonsig1+\\\n",
        "        nonsig2_3*b_nonsig2+nonsig3_3*b_nonsig3\n",
        "\n",
        "V = {1: V1, 2: V2, 3: V3}\n",
        "av = {1: aval_1, 2: aval_2, 3: aval_3}\n",
        "\n",
        "prob = models.logit(V, av, choice)\n",
        "logprob = log(MonteCarlo(prob))\n",
        "\n",
        "# Define level of verbosity\n",
        "logger = msg.bioMessage()\n",
        "logger.setSilent()\n",
        "\n",
        "# Run estimation\n",
        "print(\"Ndraws Time(s) Log-Likeli.\")\n",
        "for n_draws in [100, 200, 300]:\n",
        "    start_time = time()\n",
        "    biogeme = bio.BIOGEME(database, logprob, numberOfDraws=n_draws, numberOfThreads=2)\n",
        "    biogeme.modelName = 'MixedLogitArtificial'\n",
        "    biogeme.generateHtml = False\n",
        "    biogeme.generatePickle = False\n",
        "    results = biogeme.estimate()\n",
        "    ellapsed = time() - start_time\n",
        "    print(\"{:6} {:7.2f} {:11.2f}\".format(n_draws, ellapsed, results.data.logLike))\n",
        "    rdf.loc[len(rdf)] = ['biogeme', n_draws, ellapsed]"
      ],
      "execution_count": 9,
      "outputs": [
        {
          "output_type": "stream",
          "name": "stdout",
          "text": [
            "Ndraws Time(s) Log-Likeli.\n",
            "   100  367.47    -2287.46\n",
            "   200  658.33    -2278.40\n",
            "   300 1146.12    -2276.88\n"
          ]
        }
      ]
    },
    {
      "cell_type": "markdown",
      "metadata": {
        "id": "e62LlJ67Hrbp"
      },
      "source": [
        "> **Note that the estimation times of `biogeme` are substantially larger compared to `xlogit` with gpu processing.**"
      ]
    },
    {
      "cell_type": "markdown",
      "metadata": {
        "id": "WaNf4rVAMtsI"
      },
      "source": [
        "## Part 2: Plot benchmark results"
      ]
    },
    {
      "cell_type": "code",
      "metadata": {
        "id": "n1MkWP0n8nh7"
      },
      "source": [
        "import matplotlib.pyplot as plt\n",
        "import matplotlib\n",
        "matplotlib.rcParams.update({'font.size': 14,\n",
        "                            'axes.spines.right': False,\n",
        "                            'axes.spines.top': False})\n",
        "markers = {'xlogit': 'x', 'xlogit_gpu': 'o', 'biogeme': 'd', 'pylogit': '^'}\n",
        "colors = {'xlogit': '#ff7f00', 'xlogit_gpu': '#e41a1c', 'biogeme': '#984ea3',\n",
        "           'pylogit': '#377eb8'}\n",
        "libs = ['xlogit', 'xlogit_gpu' ,'biogeme', 'pylogit']"
      ],
      "execution_count": 10,
      "outputs": []
    },
    {
      "cell_type": "code",
      "metadata": {
        "id": "O8TQUTRYMk9v",
        "colab": {
          "base_uri": "https://localhost:8080/",
          "height": 597
        },
        "outputId": "c68344ff-ea51-44c4-c3f6-b2aec0098e84"
      },
      "source": [
        "# Plot time benchmark\n",
        "def plot_time_benchmark(plib):\n",
        "    plibs = [\"xlogit\", \"xlogit_gpu\", plib]\n",
        "    for i, lib in enumerate(plibs):\n",
        "        d = rdf[rdf.library == lib][[\"draws\", \"time\"]].values.T\n",
        "        plt.plot(d[0], d[1], marker=markers[lib], c=colors[lib])\n",
        "    plt.legend(plibs)\n",
        "    plt.xlabel(\"Random draws\")\n",
        "    plt.ylabel(\"Time (Seconds)\")\n",
        "    plt.title(\"Estimation time (artificial dataset)\")\n",
        "    plt.show()\n",
        "    plt.close()\n",
        "\n",
        "plot_time_benchmark(\"pylogit\")\n",
        "plot_time_benchmark(\"biogeme\")"
      ],
      "execution_count": 11,
      "outputs": [
        {
          "output_type": "display_data",
          "data": {
            "image/png": "[encoded data removed]",
            "text/plain": [
              "<Figure size 432x288 with 1 Axes>"
            ]
          },
          "metadata": {
            "needs_background": "light"
          }
        },
        {
          "output_type": "display_data",
          "data": {
            "image/png": "[encoded data removed]",
            "text/plain": [
              "<Figure size 432x288 with 1 Axes>"
            ]
          },
          "metadata": {
            "needs_background": "light"
          }
        }
      ]
    },
    {
      "cell_type": "markdown",
      "metadata": {
        "id": "rrhDT2RrKojf"
      },
      "source": [
        "> **These figures resemble to a large extent the results in Figures 1 and 2 in the paper**"
      ]
    },
    {
      "cell_type": "markdown",
      "metadata": {
        "id": "_7cdVvoNHprf"
      },
      "source": [
        "The benchmark results indicate that `xlogit_gpu` is significantly faster than `pylogit` and `biogeme`. For instance, note that for 300 draws, `xlogit_gpu` takes less than two seconds whereas `pylogit` takes around 100 seconds. The next section presents a more convenient summary of the speed gains provided by `xlogit` in the form of a comparison table."
      ]
    },
    {
      "cell_type": "markdown",
      "metadata": {
        "id": "MDYCWdW8My3U"
      },
      "source": [
        "## Part 3: Show comparison table"
      ]
    },
    {
      "cell_type": "code",
      "metadata": {
        "id": "bOvbI3TCM16J",
        "colab": {
          "base_uri": "https://localhost:8080/"
        },
        "outputId": "6ad7b50f-978e-4107-fcef-1fc7393f3534"
      },
      "source": [
        "dfc = rdf.pivot(index='library', columns='draws', values='time')\n",
        "\n",
        "# Compute estimation time compared to xlogit_gpu\n",
        "for draws in [100, 200, 300]:\n",
        "    col = dfc[draws]\n",
        "    dfc['c'+str(draws)] = col.values/col[col.index == \"xlogit_gpu\"].values\n",
        "dfc['cavg'] = dfc[['c'+str(i) for i in [100, 200, 300]]].values.mean(axis=1)\n",
        "dfc = dfc.round(1)\n",
        "\n",
        "# Print in a table format\n",
        "print(\"\\n\\n********* TABLE COMPARISON ESTIMATION TIME *********\\n\")\n",
        "print(\"{:12} {:^23} {:^23}\".format(\"\", \"Estimation time\", \"Compared to xlogit_gpu\"))\n",
        "c = dfc.columns.values\n",
        "print(\"{:12} {:6} {:6} {:6} {:>6} {:>6} {:>6} {:>6}\".format(\n",
        "    \"draws-->\", c[0], c[1], c[2], c[3], c[4], c[5], \"c_avg\"))\n",
        "for row in dfc.iterrows():\n",
        "    c = row[1].values\n",
        "    print(\"{:12} {:6} {:6} {:6} {:6} {:6} {:6} {:6}\".format(\n",
        "        row[0], c[0], c[1], c[2], c[3], c[4], c[5], c[6]))"
      ],
      "execution_count": 12,
      "outputs": [
        {
          "output_type": "stream",
          "name": "stdout",
          "text": [
            "\n",
            "\n",
            "********* TABLE COMPARISON ESTIMATION TIME *********\n",
            "\n",
            "                 Estimation time     Compared to xlogit_gpu \n",
            "draws-->        100    200    300   c100   c200   c300  c_avg\n",
            "biogeme       367.5  658.3 1146.1  263.9  299.5  345.9  303.1\n",
            "pylogit        78.5  135.8  113.0   56.4   61.8   34.1   50.7\n",
            "xlogit          6.8   12.6   20.5    4.9    5.7    6.2    5.6\n",
            "xlogit_gpu      1.4    2.2    3.3    1.0    1.0    1.0    1.0\n"
          ]
        }
      ]
    },
    {
      "cell_type": "markdown",
      "metadata": {
        "id": "yZsbvJGnLGz9"
      },
      "source": [
        "> **Note that this table resembles to some degree the results in Table 3 in the paper**"
      ]
    },
    {
      "cell_type": "markdown",
      "metadata": {
        "id": "RDkbcBDBJb9p"
      },
      "source": [
        "The first set of columns in the table summarize the different estimation times and the second set of columns compare such estimation times against the ones yielded by `xlogit_gpu`. The final column shows how slow the other tools are compared to `xlogit_gpu`. Note that, in average, `xlogit` with GPU processing is around 73x faster than `pylogit`, 467x faster than `biogeme` (which used 2 processor cores simultaneously), and 9x faster thatn `xlogit` without GPU processing. "
      ]
    },
    {
      "cell_type": "markdown",
      "metadata": {
        "id": "oWVZY8uZSQDr"
      },
      "source": [
        "## Part 4: Show `xlogit` tables of estimates"
      ]
    },
    {
      "cell_type": "markdown",
      "metadata": {
        "id": "S5h2q7mRLSSJ"
      },
      "source": [
        "The following tables show the estimates obtained with `xlogit` for the artificial, electricity, and fishing datasets."
      ]
    },
    {
      "cell_type": "markdown",
      "metadata": {
        "id": "K8Au5WGGLdrJ"
      },
      "source": [
        "> **Note that the estimates below are the exact same estimates for `xlogit` in the paper (Tables 1 and 2).** The results for `mlogit` can't be shown here because Google Colab does not run R code. Also, the extensive estimation times of `pylogit` make it difficult to show the complete results in this quick benchmark in Google Colab. However, the results can be entirely replicated using the mini and full benchmark."
      ]
    },
    {
      "cell_type": "code",
      "metadata": {
        "id": "sKbs3lITQylu"
      },
      "source": [
        "device.enable_gpu_acceleration()"
      ],
      "execution_count": 13,
      "outputs": []
    },
    {
      "cell_type": "markdown",
      "metadata": {
        "id": "wTrEKSuORXOk"
      },
      "source": [
        "### SwissMetro Dataset"
      ]
    },
    {
      "cell_type": "code",
      "metadata": {
        "colab": {
          "base_uri": "https://localhost:8080/"
        },
        "id": "qn_pmmg3RUg2",
        "outputId": "0d44d014-b712-4577-9e58-2b080a758a91"
      },
      "source": [
        "# ====== STEP 1. READ AND PRE-PROCESS DATA =====\n",
        "import pandas\n",
        "import numpy as np\n",
        "df_wide = pandas.read_table(\"http://transp-or.epfl.ch/data/swissmetro.dat\", sep=\"\\t\")\n",
        "df_wide = df_wide[(df_wide['PURPOSE'].isin([1, 3]) \\\n",
        "                   & (df_wide['CHOICE'] != 0))]  # Filter samples\n",
        "df_wide['custom_id'] = np.arange(len(df_wide))  # Add unique identifier\n",
        "df_wide['CHOICE'] = df_wide['CHOICE'].map({1: 'TRAIN', 2: 'SM', 3: 'CAR'})\n",
        "\n",
        "# ===== STEP 2. RESHAPE DATA TO LONG FORMAT ===== \n",
        "from xlogit.utils import wide_to_long\n",
        "df = wide_to_long(df_wide, id_col='custom_id', alt_name='alt',\n",
        "                  alt_list=['TRAIN', 'SM', 'CAR'], empty_val=0,\n",
        "                  varying=['TT', 'CO', 'AV'], alt_is_prefix=True)\n",
        "\n",
        "# ===== STEP 3. CREATE MODEL SPECIFICATION ===== \n",
        "df['ASC_TRAIN'] = np.ones(len(df))*(df['alt'] == 'TRAIN')\n",
        "df['ASC_CAR'] = np.ones(len(df))*(df['alt'] == 'CAR')\n",
        "df['TT'], df['CO'] = df['TT']/100, df['CO']/100  # Scale variables\n",
        "annual_pass = (df['GA'] == 1) & (df['alt'].isin(['TRAIN', 'SM']))\n",
        "df.loc[annual_pass, 'CO'] = 0  # Cost zero for pass holders\n",
        "\n",
        "# ===== STEP 4. ESTIMATE MODEL PARAMETERS ===== \n",
        "from xlogit import MixedLogit\n",
        "varnames=['ASC_CAR', 'ASC_TRAIN', 'CO', 'TT']\n",
        "model = MixedLogit()\n",
        "model.fit(X=df[varnames], y=df['CHOICE'], varnames=varnames,\n",
        "          alts=df['alt'], ids=df['custom_id'], panels=df[\"ID\"],\n",
        "          avail=df['AV'], randvars={'TT': 'n'}, n_draws=1500)\n",
        "model.summary()"
      ],
      "execution_count": 16,
      "outputs": [
        {
          "output_type": "stream",
          "name": "stdout",
          "text": [
            "GPU processing enabled.\n",
            "Optimization terminated successfully.\n",
            "         Current function value: 4359.218229\n",
            "         Iterations: 19\n",
            "         Function evaluations: 25\n",
            "         Gradient evaluations: 25\n",
            "Estimation time= 2.0 seconds\n",
            "---------------------------------------------------------------------------\n",
            "Coefficient              Estimate      Std.Err.         z-val         P>|z|\n",
            "---------------------------------------------------------------------------\n",
            "ASC_CAR                 0.2831101     0.0564250     5.0174585      3.29e-06 ***\n",
            "ASC_TRAIN              -0.5722759     0.0791059    -7.2343003      7.96e-12 ***\n",
            "CO                     -1.6601672     0.0778264   -21.3316760      3.38e-78 ***\n",
            "TT                     -3.2289890     0.1749384   -18.4578595      6.36e-62 ***\n",
            "sd.TT                   3.6485428     0.1667409    21.8815047       2.2e-81 ***\n",
            "---------------------------------------------------------------------------\n",
            "Significance:  0 '***' 0.001 '**' 0.01 '*' 0.05 '.' 0.1 ' ' 1\n",
            "\n",
            "Log-Likelihood= -4359.218\n",
            "AIC= 8728.436\n",
            "BIC= 8751.550\n"
          ]
        }
      ]
    },
    {
      "cell_type": "markdown",
      "metadata": {
        "id": "eo_yv9maWTWM"
      },
      "source": [
        "### Artificial dataset"
      ]
    },
    {
      "cell_type": "code",
      "metadata": {
        "id": "cJ4cD0VQVTqH",
        "colab": {
          "base_uri": "https://localhost:8080/"
        },
        "outputId": "5d9f2a5c-29c1-413a-dd83-eaf78e530e51"
      },
      "source": [
        "import pandas\n",
        "df = pd.read_csv(data_folder+\"/artificial_long.csv\")\n",
        "varnames = ['price', 'time', 'conven', 'comfort', 'meals',\n",
        "            'petfr', 'emipp', 'nonsig1', 'nonsig2', 'nonsig3']\n",
        "\n",
        "from xlogit import MixedLogit\n",
        "model = MixedLogit()\n",
        "model.fit(X=df[varnames], y=df['choice'], varnames=varnames, \n",
        "          ids=df['id'], alts=df['alt'], n_draws=1500,\n",
        "          randvars={'meals': 'n', 'petfr': 'n', 'emipp': 'n'})\n",
        "model.summary()"
      ],
      "execution_count": 14,
      "outputs": [
        {
          "output_type": "stream",
          "name": "stdout",
          "text": [
            "GPU processing enabled.\n",
            "Optimization terminated successfully.\n",
            "         Current function value: 2278.801016\n",
            "         Iterations: 52\n",
            "         Function evaluations: 67\n",
            "         Gradient evaluations: 67\n",
            "Estimation time= 12.5 seconds\n",
            "---------------------------------------------------------------------------\n",
            "Coefficient              Estimate      Std.Err.         z-val         P>|z|\n",
            "---------------------------------------------------------------------------\n",
            "price                  -1.0320343     0.1553819    -6.6419223      2.36e-10 ***\n",
            "time                   -1.4595725     0.1690836    -8.6322536      7.34e-17 ***\n",
            "conven                  0.8895740     0.1413429     6.2937284      2.19e-09 ***\n",
            "comfort                 1.0633392     0.1825744     5.8241414      3.68e-08 ***\n",
            "meals                   1.7115916     0.1966436     8.7040298      3.99e-17 ***\n",
            "petfr                   3.8752937     0.3735491    10.3742563      6.83e-24 ***\n",
            "emipp                  -2.0163539     0.2139036    -9.4264592       6.5e-20 ***\n",
            "nonsig1                 0.0725413     0.1268775     0.5717423         0.678    \n",
            "nonsig2                 0.0160257     0.1339144     0.1196709         0.792    \n",
            "nonsig3                 0.0189635     0.1130936     0.1676797         0.787    \n",
            "sd.meals               -0.6844918     0.2367959    -2.8906402        0.0123 *  \n",
            "sd.petfr               -1.3225227     0.3194845    -4.1395524      0.000154 ***\n",
            "sd.emipp                1.0039927     0.1420153     7.0696075       1.3e-11 ***\n",
            "---------------------------------------------------------------------------\n",
            "Significance:  0 '***' 0.001 '**' 0.01 '*' 0.05 '.' 0.1 ' ' 1\n",
            "\n",
            "Log-Likelihood= -2278.801\n",
            "AIC= 4583.602\n",
            "BIC= 4665.425\n"
          ]
        }
      ]
    },
    {
      "cell_type": "markdown",
      "metadata": {
        "id": "zguWQ8jfWqMJ"
      },
      "source": [
        "### Electricity dataset"
      ]
    },
    {
      "cell_type": "code",
      "metadata": {
        "id": "JSbvvaMMWWfL",
        "colab": {
          "base_uri": "https://localhost:8080/"
        },
        "outputId": "28ecdcb3-da1a-4ceb-fe76-9e8dcdf1fd16"
      },
      "source": [
        "import pandas\n",
        "df = pd.read_csv(data_folder+\"/electricity_long.csv\")\n",
        "varnames = ['pf', 'cl', 'loc', 'wk', 'tod', 'seas']\n",
        "\n",
        "from xlogit import MixedLogit\n",
        "model = MixedLogit()\n",
        "model.fit(X=df[varnames], y=df['choice'], varnames=varnames,\n",
        "          ids=df['chid'], panels=df['id'], alts=df['alt'], n_draws=1500,\n",
        "          randvars={'pf': 'n', 'cl': 'n', 'loc': 'n', 'wk': 'n',\n",
        "                    'tod': 'n', 'seas': 'n'})\n",
        "model.summary()"
      ],
      "execution_count": 15,
      "outputs": [
        {
          "output_type": "stream",
          "name": "stdout",
          "text": [
            "GPU processing enabled.\n",
            "Optimization terminated successfully.\n",
            "         Current function value: 3886.168272\n",
            "         Iterations: 40\n",
            "         Function evaluations: 48\n",
            "         Gradient evaluations: 48\n",
            "Estimation time= 3.4 seconds\n",
            "---------------------------------------------------------------------------\n",
            "Coefficient              Estimate      Std.Err.         z-val         P>|z|\n",
            "---------------------------------------------------------------------------\n",
            "pf                     -1.0054499     0.0343547   -29.2667428      2.18e-96 ***\n",
            "cl                     -0.2397561     0.0257748    -9.3019581      1.03e-17 ***\n",
            "loc                     2.2849760     0.1245044    18.3525664      1.24e-52 ***\n",
            "wk                      1.7089991     0.1009517    16.9288767      9.24e-47 ***\n",
            "tod                    -9.6837120     0.3210030   -30.1670434     9.06e-100 ***\n",
            "seas                   -9.8213286     0.3085359   -31.8320487     6.59e-106 ***\n",
            "sd.pf                   0.2328415     0.0183764    12.6706512      9.56e-30 ***\n",
            "sd.cl                   0.4223512     0.0254160    16.6175197      1.75e-45 ***\n",
            "sd.loc                  1.8488108     0.1204325    15.3514222      2.53e-40 ***\n",
            "sd.wk                   1.2421678     0.0906881    13.6971457      1.01e-33 ***\n",
            "sd.tod                 -2.4834754     0.2138154   -11.6150459      8.76e-26 ***\n",
            "sd.seas                 1.5168415     0.1655512     9.1623703      2.93e-17 ***\n",
            "---------------------------------------------------------------------------\n",
            "Significance:  0 '***' 0.001 '**' 0.01 '*' 0.05 '.' 0.1 ' ' 1\n",
            "\n",
            "Log-Likelihood= -3886.168\n",
            "AIC= 7796.337\n",
            "BIC= 7843.003\n"
          ]
        }
      ]
    },
    {
      "cell_type": "markdown",
      "metadata": {
        "id": "7xUFSp1TSyJ4"
      },
      "source": [
        "## Part 5: Fishing dataset usage example"
      ]
    },
    {
      "cell_type": "markdown",
      "metadata": {
        "id": "BN097A4gYPO2"
      },
      "source": [
        "\n",
        "> **This is the example presented in Section 3.3 of the paper.**"
      ]
    },
    {
      "cell_type": "markdown",
      "metadata": {
        "id": "B10Yg50IR1ul"
      },
      "source": [
        "### Estimation"
      ]
    },
    {
      "cell_type": "code",
      "metadata": {
        "id": "nhWMERuzYafH",
        "colab": {
          "base_uri": "https://localhost:8080/"
        },
        "outputId": "4c9eb001-c4c0-4267-81af-57ba572e471f"
      },
      "source": [
        "import pandas as pd\n",
        "df = pd.read_csv(data_folder+\"/fishing_long.csv\")\n",
        "\n",
        "from xlogit import MixedLogit\n",
        "varnames = ['price', 'catch']\n",
        "model = MixedLogit()\n",
        "model.fit(X=df[varnames], y=df['choice'], varnames=varnames, alts=df['alt'],\n",
        "          ids=df['id'], n_draws=1000, randvars={'price': 'n', 'catch': 'n'})\n",
        "model.summary()"
      ],
      "execution_count": 17,
      "outputs": [
        {
          "output_type": "stream",
          "name": "stdout",
          "text": [
            "GPU processing enabled.\n",
            "Optimization terminated successfully.\n",
            "         Current function value: 1300.511342\n",
            "         Iterations: 42\n",
            "         Function evaluations: 55\n",
            "         Gradient evaluations: 55\n",
            "Estimation time= 1.8 seconds\n",
            "---------------------------------------------------------------------------\n",
            "Coefficient              Estimate      Std.Err.         z-val         P>|z|\n",
            "---------------------------------------------------------------------------\n",
            "price                  -0.0272460     0.0022981   -11.8559231      1.09e-29 ***\n",
            "catch                   1.3271142     0.1743150     7.6133106      4.02e-13 ***\n",
            "sd.price                0.0102129     0.0021859     4.6721638      1.59e-05 ***\n",
            "sd.catch               -1.5706821     0.3762639    -4.1744167      0.000139 ***\n",
            "---------------------------------------------------------------------------\n",
            "Significance:  0 '***' 0.001 '**' 0.01 '*' 0.05 '.' 0.1 ' ' 1\n",
            "\n",
            "Log-Likelihood= -1300.511\n",
            "AIC= 2609.023\n",
            "BIC= 2629.323\n"
          ]
        }
      ]
    },
    {
      "cell_type": "markdown",
      "metadata": {
        "id": "CwNgsUgxR4d0"
      },
      "source": [
        "### Prediction"
      ]
    },
    {
      "cell_type": "code",
      "metadata": {
        "colab": {
          "base_uri": "https://localhost:8080/"
        },
        "id": "t5cGbG9OR7M1",
        "outputId": "ad77bf5b-e0a7-4815-8f6c-df94cc6efaef"
      },
      "source": [
        "choices, freq = model.predict(X=df[varnames], varnames=varnames, ids=df['id'],\n",
        "                              alts=df['alt'], return_freq=True, n_draws=1000)\n",
        "print(f\"base: {freq}\")\n",
        "\n",
        "df.loc[df['alt']=='boat', 'price'] *= 1.2  # 20 percent price increase\n",
        "choices, freq = model.predict(X=df[varnames], varnames=varnames, ids=df['id'],\n",
        "                              alts=df['alt'], return_freq=True, n_draws=1000)\n",
        "print(f\"updated: {freq}\")"
      ],
      "execution_count": 18,
      "outputs": [
        {
          "output_type": "stream",
          "name": "stdout",
          "text": [
            "GPU processing enabled.\n",
            "base: {'beach': 0.223, 'boat': 0.461, 'charter': 0.228, 'pier': 0.089}\n",
            "GPU processing enabled.\n",
            "updated: {'beach': 0.238, 'boat': 0.379, 'charter': 0.278, 'pier': 0.105}\n"
          ]
        }
      ]
    }
  ]
}